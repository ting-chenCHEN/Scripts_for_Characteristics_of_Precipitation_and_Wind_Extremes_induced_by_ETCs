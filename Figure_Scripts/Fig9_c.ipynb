{
 "cells": [
  {
   "cell_type": "code",
   "execution_count": 1,
   "id": "388b4f66-3093-47d6-9b21-ae65c06fcb34",
   "metadata": {},
   "outputs": [
    {
     "name": "stderr",
     "output_type": "stream",
     "text": [
      "/sw/spack-levante/mambaforge-23.1.0-1-Linux-x86_64-3boc6i/lib/python3.10/site-packages/pandas/core/computation/expressions.py:21: UserWarning: Pandas requires version '2.8.4' or newer of 'numexpr' (version '2.7.3' currently installed).\n",
      "  from pandas.core.computation.check import NUMEXPR_INSTALLED\n"
     ]
    }
   ],
   "source": [
    "import pandas as pd\n",
    "import cartopy.crs as ccrs\n",
    "import cartopy.feature as cfeature\n",
    "import numpy as np                         # Good module for matrix and matrix operation\n",
    "import matplotlib.pyplot as plt            # Module to produce figure\n",
    "import matplotlib.colors as colors\n",
    "import os                                  # Used to convert png to other format\n",
    "#import rpnpy.librmn.all as rmn             # Module to read RPN files\n",
    "from matplotlib import gridspec,rc\n",
    "#import rpn_funcs_chris\n",
    "#from rpn_funcs_chris import open_var_2d, lambert_map\n",
    "from matplotlib.path import Path\n",
    "import matplotlib.patches as patches\n",
    "import netCDF4\n",
    "from statistics import median_low, median_high, median, mean\n",
    "plt.rcParams['savefig.facecolor']='white'"
   ]
  },
  {
   "cell_type": "code",
   "execution_count": 2,
   "id": "1443eb95-d4a4-4184-ba75-181892260205",
   "metadata": {},
   "outputs": [
    {
     "name": "stdout",
     "output_type": "stream",
     "text": [
      "2\n",
      "14\n",
      "1\n",
      "11\n",
      "0\n",
      "6\n"
     ]
    }
   ],
   "source": [
    "fs=11\n",
    "\n",
    "def get_verts_new(categ_box):\n",
    "    verts = [(categ_box['west'], categ_box['south']), \n",
    "     (categ_box['west'], categ_box['north']), \n",
    "     (categ_box['east'], categ_box['north']), \n",
    "     (categ_box['east'], categ_box['south']), \n",
    "     (0., 0.)]\n",
    "    return verts\n",
    "\n",
    "box = {'west':-180, 'east':0, 'north':80, 'south':20}\n",
    "\n",
    "\n",
    "data = open('./PDF_TPexceedance_duration_p98p0_NNA_IMERG.txt','r')\n",
    "ranges=np.arange(0.5,72.5,1)\n",
    "ranges_int=np.arange(0.5,72.5,1)*0.5\n",
    "\n",
    "durationPDF=[]\n",
    "intensityFdur=[]\n",
    "intensityPDF=[]\n",
    "\n",
    "for i, line in enumerate(data):\n",
    "    words=line.split()\n",
    "    durationPDF0   =float(words[0])  # the pdf of duration (each line increases by 1 hour)\n",
    "    intensityFdur0 =float(words[1])  # averaged exeedance (intensity) as a function of duration\n",
    "    intensityPDF0  =float(words[2])  # the pdf of exeedance (each line increases by 0.2 mm/hr)\n",
    "    \n",
    "    durationPDF.append(durationPDF0)\n",
    "    intensityFdur.append(intensityFdur0)\n",
    "    intensityPDF.append(intensityPDF0)\n",
    "    \n",
    "data1 = open('./PDF_TPexceedance_duration_p99p0_NNA_IMERG.txt','r')\n",
    "\n",
    "durationPDF1=[]\n",
    "intensityFdur1=[]\n",
    "intensityPDF1=[]\n",
    "\n",
    "for i, line in enumerate(data1):\n",
    "    words1=line.split()\n",
    "    durationPDF0   =float(words1[0])  # the pdf of duration (each line increases by 1 hour)\n",
    "    intensityFdur0 =float(words1[1])  # averaged exeedance (intensity) as a function of duration\n",
    "    intensityPDF0  =float(words1[2])  # the pdf of exeedance (each line increases by 0.2 mm/hr)\n",
    "    \n",
    "    durationPDF1.append(durationPDF0)\n",
    "    intensityFdur1.append(intensityFdur0)\n",
    "    intensityPDF1.append(intensityPDF0)\n",
    "    \n",
    "data2 = open('./PDF_TPexceedance_duration_p99p9_NNA_IMERG.txt','r')\n",
    "\n",
    "durationPDF2=[]\n",
    "intensityFdur2=[]\n",
    "intensityPDF2=[]\n",
    "\n",
    "for i, line in enumerate(data2):\n",
    "    words2=line.split()\n",
    "    durationPDF0   =float(words2[0])  # the pdf of duration (each line increases by 1 hour)\n",
    "    intensityFdur0 =float(words2[1])  # averaged exeedance (intensity) as a function of duration\n",
    "    intensityPDF0  =float(words2[2])  # the pdf of exeedance (each line increases by 0.2 mm/hr)\n",
    "    \n",
    "    durationPDF2.append(durationPDF0)\n",
    "    intensityFdur2.append(intensityFdur0)\n",
    "    intensityPDF2.append(intensityPDF0)\n",
    "    \n",
    "contmax = max(intensityFdur)\n",
    "indmax = intensityFdur.index(contmax)\n",
    "print(indmax)\n",
    "\n",
    "conta = np.array(intensityFdur)\n",
    "contmean = mean(conta)\n",
    "difference_array = np.absolute(conta-contmean)\n",
    "indmean = difference_array.argmin()\n",
    "print(indmean)\n",
    "\n",
    "contmax1 = max(intensityFdur1)\n",
    "indmax1 = intensityFdur1.index(contmax1)\n",
    "print(indmax1)\n",
    "\n",
    "cont1a = np.array(intensityFdur1)\n",
    "contmean1 = mean(cont1a)\n",
    "difference_array1 = np.absolute(cont1a-contmean1)\n",
    "indmean1 = difference_array1.argmin()\n",
    "print(indmean1)\n",
    "\n",
    "contmax2 = max(intensityFdur2)\n",
    "indmax2 = intensityFdur2.index(contmax2)\n",
    "print(indmax2)\n",
    "\n",
    "cont2a = np.array(intensityFdur2)\n",
    "contmean2 = mean(cont2a)\n",
    "difference_array2 = np.absolute(cont2a-contmean2)\n",
    "indmean2 = difference_array2.argmin()\n",
    "print(indmean2)"
   ]
  },
  {
   "cell_type": "code",
   "execution_count": 5,
   "id": "bbec152b-1cca-4c6d-95c3-a7c6fb0ea4c0",
   "metadata": {},
   "outputs": [
    {
     "data": {
      "image/png": "[encoded data removed]",
      "text/plain": [
       "<Figure size 350x300 with 1 Axes>"
      ]
     },
     "metadata": {},
     "output_type": "display_data"
    }
   ],
   "source": [
    "fs0=10\n",
    "fs =11\n",
    "fig = plt.figure(figsize=(3.5,3))\n",
    "gs = gridspec.GridSpec(1,1)\n",
    "width=1\n",
    "hwidth=width*0.5\n",
    "\n",
    "c1='royalblue'\n",
    "c2='orange'\n",
    "c3='crimson'\n",
    "c3b='firebrick'\n",
    "\n",
    "\n",
    "ax1=plt.subplot(gs[0])\n",
    "\n",
    "plt.bar(ranges+hwidth,intensityFdur,width,label='p98.0',color=c1, alpha=0.5)   \n",
    "plt.bar(ranges+hwidth,intensityFdur1,width,label='p99.0',color=c2, alpha=0.6)  \n",
    "plt.bar(ranges+hwidth,intensityFdur2,width,label='p99.9',color=c3, alpha=0.5)   \n",
    "plt.vlines(x=indmax+hwidth+0.5,ymin=0, ymax=contmax,linewidth=1.5, linestyles='solid',color=c1,alpha=1)\n",
    "plt.vlines(x=indmax1+hwidth+0.5,ymin=0, ymax=contmax1,linewidth=1.5,linestyles='solid',color='navajowhite',alpha=1)\n",
    "plt.vlines(x=indmax2+hwidth+0.5,ymin=0, ymax=contmax2,linewidth=1.5, linestyles='solid',color=c3b,alpha=1)\n",
    "\n",
    "\n",
    "ax1.set_ylabel(''r'$ETC_{PR,cum}$'' (mm/h)',fontsize=fs)\n",
    "ax1.set_xlim(0.5,32)\n",
    "ax1.set_ylim(0,2.2)\n",
    "ax1.set_xlabel('Duration of extremes (hour)',fontsize=fs)\n",
    "ax1.set_xticks([1,2,3,4,5,6,9,12,15,18,21,24,27,30])\n",
    "plt.legend(fontsize=fs0)\n",
    "ax1.set_title('Averages of all ETCs (IMERG PR)',loc='left')\n",
    "\n",
    "plt.savefig('./PDF_PR_contribution_together_new_IMERG', bbox_inches='tight', dpi=200)\n",
    "plt.show()\n",
    "plt.close()\n"
   ]
  }
 ],
 "metadata": {
  "kernelspec": {
   "display_name": "0 Python 3 (based on the module python3/unstable",
   "language": "python",
   "name": "python3_unstable"
  },
  "language_info": {
   "codemirror_mode": {
    "name": "ipython",
    "version": 3
   },
   "file_extension": ".py",
   "mimetype": "text/x-python",
   "name": "python",
   "nbconvert_exporter": "python",
   "pygments_lexer": "ipython3",
   "version": "3.10.10"
  }
 },
 "nbformat": 4,
 "nbformat_minor": 5
}
